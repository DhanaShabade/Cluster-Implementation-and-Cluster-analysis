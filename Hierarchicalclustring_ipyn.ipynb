{
  "nbformat": 4,
  "nbformat_minor": 0,
  "metadata": {
    "colab": {
      "provenance": []
    },
    "kernelspec": {
      "name": "python3",
      "display_name": "Python 3"
    },
    "language_info": {
      "name": "python"
    }
  },
  "cells": [
    {
      "cell_type": "code",
      "source": [
        "from scipy.cluster.hierarchy import linkage, dendrogram\n",
        "import matplotlib.pyplot as plt\n",
        "import pandas as pd\n"
      ],
      "metadata": {
        "id": "adnQVUB29qRd"
      },
      "execution_count": null,
      "outputs": []
    },
    {
      "cell_type": "code",
      "source": [
        "import pandas as pd"
      ],
      "metadata": {
        "id": "BDnL6zPo7YrD"
      },
      "execution_count": null,
      "outputs": []
    },
    {
      "cell_type": "code",
      "execution_count": null,
      "metadata": {
        "id": "5XlvYJDE7D9v"
      },
      "outputs": [],
      "source": [
        "data = pd.read_csv('https://raw.githubusercontent.com/vihar/unsupervised-learning-with-python/master/seeds-less-rows.csv')"
      ]
    },
    {
      "cell_type": "code",
      "source": [
        "data.head()"
      ],
      "metadata": {
        "colab": {
          "base_uri": "https://localhost:8080/",
          "height": 206
        },
        "id": "JJ9IbalA7RZV",
        "outputId": "86654fb7-43aa-43bc-f616-d0bac55608ba"
      },
      "execution_count": null,
      "outputs": [
        {
          "output_type": "execute_result",
          "data": {
            "text/plain": [
              "    area  perimeter  compactness  length  width  asymmetry_coefficient  \\\n",
              "0  14.88      14.57       0.8811   5.554  3.333                  1.018   \n",
              "1  14.69      14.49       0.8799   5.563  3.259                  3.586   \n",
              "2  14.03      14.16       0.8796   5.438  3.201                  1.717   \n",
              "3  13.99      13.83       0.9183   5.119  3.383                  5.234   \n",
              "4  14.11      14.26       0.8722   5.520  3.168                  2.688   \n",
              "\n",
              "   groove_length grain_variety  \n",
              "0          4.956    Kama wheat  \n",
              "1          5.219    Kama wheat  \n",
              "2          5.001    Kama wheat  \n",
              "3          4.781    Kama wheat  \n",
              "4          5.219    Kama wheat  "
            ],
            "text/html": [
              "\n",
              "  <div id=\"df-8cc64d9f-523d-47bc-bee1-8e51fdd55bde\">\n",
              "    <div class=\"colab-df-container\">\n",
              "      <div>\n",
              "<style scoped>\n",
              "    .dataframe tbody tr th:only-of-type {\n",
              "        vertical-align: middle;\n",
              "    }\n",
              "\n",
              "    .dataframe tbody tr th {\n",
              "        vertical-align: top;\n",
              "    }\n",
              "\n",
              "    .dataframe thead th {\n",
              "        text-align: right;\n",
              "    }\n",
              "</style>\n",
              "<table border=\"1\" class=\"dataframe\">\n",
              "  <thead>\n",
              "    <tr style=\"text-align: right;\">\n",
              "      <th></th>\n",
              "      <th>area</th>\n",
              "      <th>perimeter</th>\n",
              "      <th>compactness</th>\n",
              "      <th>length</th>\n",
              "      <th>width</th>\n",
              "      <th>asymmetry_coefficient</th>\n",
              "      <th>groove_length</th>\n",
              "      <th>grain_variety</th>\n",
              "    </tr>\n",
              "  </thead>\n",
              "  <tbody>\n",
              "    <tr>\n",
              "      <th>0</th>\n",
              "      <td>14.88</td>\n",
              "      <td>14.57</td>\n",
              "      <td>0.8811</td>\n",
              "      <td>5.554</td>\n",
              "      <td>3.333</td>\n",
              "      <td>1.018</td>\n",
              "      <td>4.956</td>\n",
              "      <td>Kama wheat</td>\n",
              "    </tr>\n",
              "    <tr>\n",
              "      <th>1</th>\n",
              "      <td>14.69</td>\n",
              "      <td>14.49</td>\n",
              "      <td>0.8799</td>\n",
              "      <td>5.563</td>\n",
              "      <td>3.259</td>\n",
              "      <td>3.586</td>\n",
              "      <td>5.219</td>\n",
              "      <td>Kama wheat</td>\n",
              "    </tr>\n",
              "    <tr>\n",
              "      <th>2</th>\n",
              "      <td>14.03</td>\n",
              "      <td>14.16</td>\n",
              "      <td>0.8796</td>\n",
              "      <td>5.438</td>\n",
              "      <td>3.201</td>\n",
              "      <td>1.717</td>\n",
              "      <td>5.001</td>\n",
              "      <td>Kama wheat</td>\n",
              "    </tr>\n",
              "    <tr>\n",
              "      <th>3</th>\n",
              "      <td>13.99</td>\n",
              "      <td>13.83</td>\n",
              "      <td>0.9183</td>\n",
              "      <td>5.119</td>\n",
              "      <td>3.383</td>\n",
              "      <td>5.234</td>\n",
              "      <td>4.781</td>\n",
              "      <td>Kama wheat</td>\n",
              "    </tr>\n",
              "    <tr>\n",
              "      <th>4</th>\n",
              "      <td>14.11</td>\n",
              "      <td>14.26</td>\n",
              "      <td>0.8722</td>\n",
              "      <td>5.520</td>\n",
              "      <td>3.168</td>\n",
              "      <td>2.688</td>\n",
              "      <td>5.219</td>\n",
              "      <td>Kama wheat</td>\n",
              "    </tr>\n",
              "  </tbody>\n",
              "</table>\n",
              "</div>\n",
              "      <button class=\"colab-df-convert\" onclick=\"convertToInteractive('df-8cc64d9f-523d-47bc-bee1-8e51fdd55bde')\"\n",
              "              title=\"Convert this dataframe to an interactive table.\"\n",
              "              style=\"display:none;\">\n",
              "        \n",
              "  <svg xmlns=\"http://www.w3.org/2000/svg\" height=\"24px\"viewBox=\"0 0 24 24\"\n",
              "       width=\"24px\">\n",
              "    <path d=\"M0 0h24v24H0V0z\" fill=\"none\"/>\n",
              "    <path d=\"M18.56 5.44l.94 2.06.94-2.06 2.06-.94-2.06-.94-.94-2.06-.94 2.06-2.06.94zm-11 1L8.5 8.5l.94-2.06 2.06-.94-2.06-.94L8.5 2.5l-.94 2.06-2.06.94zm10 10l.94 2.06.94-2.06 2.06-.94-2.06-.94-.94-2.06-.94 2.06-2.06.94z\"/><path d=\"M17.41 7.96l-1.37-1.37c-.4-.4-.92-.59-1.43-.59-.52 0-1.04.2-1.43.59L10.3 9.45l-7.72 7.72c-.78.78-.78 2.05 0 2.83L4 21.41c.39.39.9.59 1.41.59.51 0 1.02-.2 1.41-.59l7.78-7.78 2.81-2.81c.8-.78.8-2.07 0-2.86zM5.41 20L4 18.59l7.72-7.72 1.47 1.35L5.41 20z\"/>\n",
              "  </svg>\n",
              "      </button>\n",
              "      \n",
              "  <style>\n",
              "    .colab-df-container {\n",
              "      display:flex;\n",
              "      flex-wrap:wrap;\n",
              "      gap: 12px;\n",
              "    }\n",
              "\n",
              "    .colab-df-convert {\n",
              "      background-color: #E8F0FE;\n",
              "      border: none;\n",
              "      border-radius: 50%;\n",
              "      cursor: pointer;\n",
              "      display: none;\n",
              "      fill: #1967D2;\n",
              "      height: 32px;\n",
              "      padding: 0 0 0 0;\n",
              "      width: 32px;\n",
              "    }\n",
              "\n",
              "    .colab-df-convert:hover {\n",
              "      background-color: #E2EBFA;\n",
              "      box-shadow: 0px 1px 2px rgba(60, 64, 67, 0.3), 0px 1px 3px 1px rgba(60, 64, 67, 0.15);\n",
              "      fill: #174EA6;\n",
              "    }\n",
              "\n",
              "    [theme=dark] .colab-df-convert {\n",
              "      background-color: #3B4455;\n",
              "      fill: #D2E3FC;\n",
              "    }\n",
              "\n",
              "    [theme=dark] .colab-df-convert:hover {\n",
              "      background-color: #434B5C;\n",
              "      box-shadow: 0px 1px 3px 1px rgba(0, 0, 0, 0.15);\n",
              "      filter: drop-shadow(0px 1px 2px rgba(0, 0, 0, 0.3));\n",
              "      fill: #FFFFFF;\n",
              "    }\n",
              "  </style>\n",
              "\n",
              "      <script>\n",
              "        const buttonEl =\n",
              "          document.querySelector('#df-8cc64d9f-523d-47bc-bee1-8e51fdd55bde button.colab-df-convert');\n",
              "        buttonEl.style.display =\n",
              "          google.colab.kernel.accessAllowed ? 'block' : 'none';\n",
              "\n",
              "        async function convertToInteractive(key) {\n",
              "          const element = document.querySelector('#df-8cc64d9f-523d-47bc-bee1-8e51fdd55bde');\n",
              "          const dataTable =\n",
              "            await google.colab.kernel.invokeFunction('convertToInteractive',\n",
              "                                                     [key], {});\n",
              "          if (!dataTable) return;\n",
              "\n",
              "          const docLinkHtml = 'Like what you see? Visit the ' +\n",
              "            '<a target=\"_blank\" href=https://colab.research.google.com/notebooks/data_table.ipynb>data table notebook</a>'\n",
              "            + ' to learn more about interactive tables.';\n",
              "          element.innerHTML = '';\n",
              "          dataTable['output_type'] = 'display_data';\n",
              "          await google.colab.output.renderOutput(dataTable, element);\n",
              "          const docLink = document.createElement('div');\n",
              "          docLink.innerHTML = docLinkHtml;\n",
              "          element.appendChild(docLink);\n",
              "        }\n",
              "      </script>\n",
              "    </div>\n",
              "  </div>\n",
              "  "
            ]
          },
          "metadata": {},
          "execution_count": 6
        }
      ]
    },
    {
      "cell_type": "code",
      "source": [
        "data['grain_variety'].value_counts()"
      ],
      "metadata": {
        "colab": {
          "base_uri": "https://localhost:8080/"
        },
        "id": "u04GmRtz7eS8",
        "outputId": "e53ce03a-70d5-4e2e-a0a5-ea1e0d9eba47"
      },
      "execution_count": null,
      "outputs": [
        {
          "output_type": "execute_result",
          "data": {
            "text/plain": [
              "Kama wheat        14\n",
              "Rosa wheat        14\n",
              "Canadian wheat    14\n",
              "Name: grain_variety, dtype: int64"
            ]
          },
          "metadata": {},
          "execution_count": 7
        }
      ]
    },
    {
      "cell_type": "code",
      "source": [
        "data.columns"
      ],
      "metadata": {
        "colab": {
          "base_uri": "https://localhost:8080/"
        },
        "id": "kOHjcNUU71q9",
        "outputId": "ead7a033-f410-40e1-8656-05c4fd977bde"
      },
      "execution_count": null,
      "outputs": [
        {
          "output_type": "execute_result",
          "data": {
            "text/plain": [
              "Index(['area', 'perimeter', 'compactness', 'length', 'width',\n",
              "       'asymmetry_coefficient', 'groove_length', 'grain_variety'],\n",
              "      dtype='object')"
            ]
          },
          "metadata": {},
          "execution_count": 8
        }
      ]
    },
    {
      "cell_type": "code",
      "source": [
        "data.info()"
      ],
      "metadata": {
        "colab": {
          "base_uri": "https://localhost:8080/"
        },
        "id": "zJpxj3jf73QM",
        "outputId": "bad3a322-96e0-48a5-bbfc-d64c47386837"
      },
      "execution_count": null,
      "outputs": [
        {
          "output_type": "stream",
          "name": "stdout",
          "text": [
            "<class 'pandas.core.frame.DataFrame'>\n",
            "RangeIndex: 42 entries, 0 to 41\n",
            "Data columns (total 8 columns):\n",
            " #   Column                 Non-Null Count  Dtype  \n",
            "---  ------                 --------------  -----  \n",
            " 0   area                   42 non-null     float64\n",
            " 1   perimeter              42 non-null     float64\n",
            " 2   compactness            42 non-null     float64\n",
            " 3   length                 42 non-null     float64\n",
            " 4   width                  42 non-null     float64\n",
            " 5   asymmetry_coefficient  42 non-null     float64\n",
            " 6   groove_length          42 non-null     float64\n",
            " 7   grain_variety          42 non-null     object \n",
            "dtypes: float64(7), object(1)\n",
            "memory usage: 2.8+ KB\n"
          ]
        }
      ]
    },
    {
      "cell_type": "code",
      "source": [
        "varieties = list(data.pop('grain_variety'))"
      ],
      "metadata": {
        "id": "Co1RzFZm77-H"
      },
      "execution_count": null,
      "outputs": []
    },
    {
      "cell_type": "code",
      "source": [
        "samples = data.values"
      ],
      "metadata": {
        "id": "q7JgXIbY84h6"
      },
      "execution_count": null,
      "outputs": []
    },
    {
      "cell_type": "code",
      "source": [
        "mergings = linkage(samples, method='complete')\n"
      ],
      "metadata": {
        "id": "EhP-mLTs9Jzr"
      },
      "execution_count": null,
      "outputs": []
    },
    {
      "cell_type": "code",
      "source": [
        "mergings"
      ],
      "metadata": {
        "colab": {
          "base_uri": "https://localhost:8080/"
        },
        "id": "axgxZv859yYr",
        "outputId": "429c5fb5-470c-48e0-c74b-95145e826aa4"
      },
      "execution_count": null,
      "outputs": [
        {
          "output_type": "execute_result",
          "data": {
            "text/plain": [
              "array([[33.        , 36.        ,  0.27162909,  2.        ],\n",
              "       [21.        , 26.        ,  0.31365739,  2.        ],\n",
              "       [18.        , 43.        ,  0.32846589,  3.        ],\n",
              "       [38.        , 41.        ,  0.34657328,  2.        ],\n",
              "       [19.        , 22.        ,  0.37233454,  2.        ],\n",
              "       [15.        , 27.        ,  0.38916958,  2.        ],\n",
              "       [ 4.        , 11.        ,  0.48519909,  2.        ],\n",
              "       [ 2.        , 13.        ,  0.60220511,  2.        ],\n",
              "       [23.        , 25.        ,  0.64447995,  2.        ],\n",
              "       [ 0.        ,  9.        ,  0.66671658,  2.        ],\n",
              "       [32.        , 37.        ,  0.68359363,  2.        ],\n",
              "       [39.        , 42.        ,  0.75541297,  3.        ],\n",
              "       [12.        , 29.        ,  0.76129577,  2.        ],\n",
              "       [30.        , 34.        ,  0.79066703,  2.        ],\n",
              "       [24.        , 47.        ,  0.89015184,  3.        ],\n",
              "       [ 1.        ,  6.        ,  0.96077742,  2.        ],\n",
              "       [31.        , 45.        ,  0.98956619,  3.        ],\n",
              "       [16.        , 50.        ,  1.05891757,  3.        ],\n",
              "       [17.        , 20.        ,  1.11543099,  2.        ],\n",
              "       [ 8.        , 40.        ,  1.13733735,  2.        ],\n",
              "       [44.        , 46.        ,  1.1662041 ,  5.        ],\n",
              "       [ 5.        , 61.        ,  1.28676337,  3.        ],\n",
              "       [35.        , 52.        ,  1.37690488,  3.        ],\n",
              "       [48.        , 49.        ,  1.52865125,  4.        ],\n",
              "       [53.        , 64.        ,  1.66517195,  6.        ],\n",
              "       [14.        , 56.        ,  1.74234784,  4.        ],\n",
              "       [51.        , 65.        ,  1.91015424,  6.        ],\n",
              "       [ 7.        , 57.        ,  1.91749035,  3.        ],\n",
              "       [28.        , 55.        ,  2.08980038,  3.        ],\n",
              "       [54.        , 58.        ,  2.13385537,  5.        ],\n",
              "       [ 3.        , 10.        ,  2.22187038,  2.        ],\n",
              "       [59.        , 67.        ,  2.31852251,  7.        ],\n",
              "       [60.        , 62.        ,  2.33686195,  7.        ],\n",
              "       [68.        , 69.        ,  2.76779035,  9.        ],\n",
              "       [66.        , 70.        ,  3.13448417,  9.        ],\n",
              "       [63.        , 71.        ,  3.25744652,  8.        ],\n",
              "       [73.        , 74.        ,  3.71580316, 14.        ],\n",
              "       [72.        , 75.        ,  4.68116988, 11.        ],\n",
              "       [76.        , 77.        ,  5.45789312, 17.        ],\n",
              "       [78.        , 79.        ,  6.74608427, 25.        ],\n",
              "       [80.        , 81.        ,  9.61230238, 42.        ]])"
            ]
          },
          "metadata": {},
          "execution_count": 13
        }
      ]
    },
    {
      "cell_type": "code",
      "source": [
        "from pandas.core.window.indexers import VariableOffsetWindowIndexer\n",
        "plt.figure(figsize=(12,6))\n",
        "dendrogram(mergings, labels = varieties, leaf_font_size=9,leaf_rotation=80)"
      ],
      "metadata": {
        "colab": {
          "base_uri": "https://localhost:8080/",
          "height": 1000
        },
        "id": "beXK6PhT9y6L",
        "outputId": "79be0ca2-e31a-4394-9679-01813f999bec"
      },
      "execution_count": null,
      "outputs": [
        {
          "output_type": "execute_result",
          "data": {
            "text/plain": [
              "{'icoord': [[15.0, 15.0, 25.0, 25.0],\n",
              "  [5.0, 5.0, 20.0, 20.0],\n",
              "  [45.0, 45.0, 55.0, 55.0],\n",
              "  [35.0, 35.0, 50.0, 50.0],\n",
              "  [12.5, 12.5, 42.5, 42.5],\n",
              "  [75.0, 75.0, 85.0, 85.0],\n",
              "  [65.0, 65.0, 80.0, 80.0],\n",
              "  [27.5, 27.5, 72.5, 72.5],\n",
              "  [105.0, 105.0, 115.0, 115.0],\n",
              "  [95.0, 95.0, 110.0, 110.0],\n",
              "  [125.0, 125.0, 135.0, 135.0],\n",
              "  [155.0, 155.0, 165.0, 165.0],\n",
              "  [145.0, 145.0, 160.0, 160.0],\n",
              "  [130.0, 130.0, 152.5, 152.5],\n",
              "  [102.5, 102.5, 141.25, 141.25],\n",
              "  [50.0, 50.0, 121.875, 121.875],\n",
              "  [185.0, 185.0, 195.0, 195.0],\n",
              "  [175.0, 175.0, 190.0, 190.0],\n",
              "  [225.0, 225.0, 235.0, 235.0],\n",
              "  [215.0, 215.0, 230.0, 230.0],\n",
              "  [205.0, 205.0, 222.5, 222.5],\n",
              "  [182.5, 182.5, 213.75, 213.75],\n",
              "  [245.0, 245.0, 255.0, 255.0],\n",
              "  [275.0, 275.0, 285.0, 285.0],\n",
              "  [265.0, 265.0, 280.0, 280.0],\n",
              "  [295.0, 295.0, 305.0, 305.0],\n",
              "  [272.5, 272.5, 300.0, 300.0],\n",
              "  [250.0, 250.0, 286.25, 286.25],\n",
              "  [198.125, 198.125, 268.125, 268.125],\n",
              "  [315.0, 315.0, 325.0, 325.0],\n",
              "  [335.0, 335.0, 345.0, 345.0],\n",
              "  [355.0, 355.0, 365.0, 365.0],\n",
              "  [375.0, 375.0, 385.0, 385.0],\n",
              "  [360.0, 360.0, 380.0, 380.0],\n",
              "  [340.0, 340.0, 370.0, 370.0],\n",
              "  [405.0, 405.0, 415.0, 415.0],\n",
              "  [395.0, 395.0, 410.0, 410.0],\n",
              "  [355.0, 355.0, 402.5, 402.5],\n",
              "  [320.0, 320.0, 378.75, 378.75],\n",
              "  [233.125, 233.125, 349.375, 349.375],\n",
              "  [85.9375, 85.9375, 291.25, 291.25]],\n",
              " 'dcoord': [[0.0, 0.27162908533513036, 0.27162908533513036, 0.0],\n",
              "  [0.0, 0.7554129731477999, 0.7554129731477999, 0.27162908533513036],\n",
              "  [0.0, 0.683593629285703, 0.683593629285703, 0.0],\n",
              "  [0.0, 1.3769048768887413, 1.3769048768887413, 0.683593629285703],\n",
              "  [0.7554129731477999,\n",
              "   1.6651719460764396,\n",
              "   1.6651719460764396,\n",
              "   1.3769048768887413],\n",
              "  [0.0, 0.7906670348509532, 0.7906670348509532, 0.0],\n",
              "  [0.0, 2.089800382811717, 2.089800382811717, 0.7906670348509532],\n",
              "  [1.6651719460764396,\n",
              "   3.1344841680889064,\n",
              "   3.1344841680889064,\n",
              "   2.089800382811717],\n",
              "  [0.0, 1.1373373510089253, 1.1373373510089253, 0.0],\n",
              "  [0.0, 1.2867633659690503, 1.2867633659690503, 1.1373373510089253],\n",
              "  [0.0, 0.7612957703810003, 0.7612957703810003, 0.0],\n",
              "  [0.0, 0.3465732822939474, 0.3465732822939474, 0.0],\n",
              "  [0.0, 0.9895661928340116, 0.9895661928340116, 0.3465732822939474],\n",
              "  [0.7612957703810003,\n",
              "   2.133855374668115,\n",
              "   2.133855374668115,\n",
              "   0.9895661928340116],\n",
              "  [1.2867633659690503,\n",
              "   3.257446516828787,\n",
              "   3.257446516828787,\n",
              "   2.133855374668115],\n",
              "  [3.1344841680889064,\n",
              "   5.457893118227948,\n",
              "   5.457893118227948,\n",
              "   3.257446516828787],\n",
              "  [0.0, 0.6444799531405162, 0.6444799531405162, 0.0],\n",
              "  [0.0, 1.0589175652523664, 1.0589175652523664, 0.6444799531405162],\n",
              "  [0.0, 0.3891695774337966, 0.3891695774337966, 0.0],\n",
              "  [0.0, 0.8901518353629343, 0.8901518353629343, 0.3891695774337966],\n",
              "  [0.0, 1.7423478441459392, 1.7423478441459392, 0.8901518353629343],\n",
              "  [1.0589175652523664,\n",
              "   2.318522512290963,\n",
              "   2.318522512290963,\n",
              "   1.7423478441459392],\n",
              "  [0.0, 1.1154309884524465, 1.1154309884524465, 0.0],\n",
              "  [0.0, 0.31365739270739296, 0.31365739270739296, 0.0],\n",
              "  [0.0, 0.3284658886399013, 0.3284658886399013, 0.31365739270739296],\n",
              "  [0.0, 0.3723345404337343, 0.3723345404337343, 0.0],\n",
              "  [0.3284658886399013,\n",
              "   1.166204098775165,\n",
              "   1.166204098775165,\n",
              "   0.3723345404337343],\n",
              "  [1.1154309884524465,\n",
              "   2.336861947141936,\n",
              "   2.336861947141936,\n",
              "   1.166204098775165],\n",
              "  [2.318522512290963,\n",
              "   3.7158031648622076,\n",
              "   3.7158031648622076,\n",
              "   2.336861947141936],\n",
              "  [0.0, 2.2218703832582127, 2.2218703832582127, 0.0],\n",
              "  [0.0, 0.6667165814647174, 0.6667165814647174, 0.0],\n",
              "  [0.0, 0.4851990931566141, 0.4851990931566141, 0.0],\n",
              "  [0.0, 0.6022051145581545, 0.6022051145581545, 0.0],\n",
              "  [0.4851990931566141,\n",
              "   1.5286512486502604,\n",
              "   1.5286512486502604,\n",
              "   0.6022051145581545],\n",
              "  [0.6667165814647174,\n",
              "   1.9101542372279785,\n",
              "   1.9101542372279785,\n",
              "   1.5286512486502604],\n",
              "  [0.0, 0.9607774195931134, 0.9607774195931134, 0.0],\n",
              "  [0.0, 1.9174903519965882, 1.9174903519965882, 0.9607774195931134],\n",
              "  [1.9101542372279785,\n",
              "   2.7677903533324195,\n",
              "   2.7677903533324195,\n",
              "   1.9174903519965882],\n",
              "  [2.2218703832582127,\n",
              "   4.6811698794211685,\n",
              "   4.6811698794211685,\n",
              "   2.7677903533324195],\n",
              "  [3.7158031648622076,\n",
              "   6.7460842686702325,\n",
              "   6.7460842686702325,\n",
              "   4.6811698794211685],\n",
              "  [5.457893118227948,\n",
              "   9.612302375601798,\n",
              "   9.612302375601798,\n",
              "   6.7460842686702325]],\n",
              " 'ivl': ['Canadian wheat',\n",
              "  'Canadian wheat',\n",
              "  'Canadian wheat',\n",
              "  'Canadian wheat',\n",
              "  'Canadian wheat',\n",
              "  'Canadian wheat',\n",
              "  'Canadian wheat',\n",
              "  'Canadian wheat',\n",
              "  'Canadian wheat',\n",
              "  'Kama wheat',\n",
              "  'Kama wheat',\n",
              "  'Canadian wheat',\n",
              "  'Kama wheat',\n",
              "  'Canadian wheat',\n",
              "  'Canadian wheat',\n",
              "  'Canadian wheat',\n",
              "  'Canadian wheat',\n",
              "  'Rosa wheat',\n",
              "  'Rosa wheat',\n",
              "  'Rosa wheat',\n",
              "  'Rosa wheat',\n",
              "  'Rosa wheat',\n",
              "  'Rosa wheat',\n",
              "  'Rosa wheat',\n",
              "  'Rosa wheat',\n",
              "  'Rosa wheat',\n",
              "  'Rosa wheat',\n",
              "  'Rosa wheat',\n",
              "  'Rosa wheat',\n",
              "  'Rosa wheat',\n",
              "  'Rosa wheat',\n",
              "  'Kama wheat',\n",
              "  'Kama wheat',\n",
              "  'Kama wheat',\n",
              "  'Kama wheat',\n",
              "  'Kama wheat',\n",
              "  'Kama wheat',\n",
              "  'Kama wheat',\n",
              "  'Kama wheat',\n",
              "  'Kama wheat',\n",
              "  'Kama wheat',\n",
              "  'Kama wheat'],\n",
              " 'leaves': [39,\n",
              "  33,\n",
              "  36,\n",
              "  35,\n",
              "  32,\n",
              "  37,\n",
              "  28,\n",
              "  30,\n",
              "  34,\n",
              "  5,\n",
              "  8,\n",
              "  40,\n",
              "  12,\n",
              "  29,\n",
              "  31,\n",
              "  38,\n",
              "  41,\n",
              "  16,\n",
              "  23,\n",
              "  25,\n",
              "  14,\n",
              "  24,\n",
              "  15,\n",
              "  27,\n",
              "  17,\n",
              "  20,\n",
              "  18,\n",
              "  21,\n",
              "  26,\n",
              "  19,\n",
              "  22,\n",
              "  3,\n",
              "  10,\n",
              "  0,\n",
              "  9,\n",
              "  4,\n",
              "  11,\n",
              "  2,\n",
              "  13,\n",
              "  7,\n",
              "  1,\n",
              "  6],\n",
              " 'color_list': ['C1',\n",
              "  'C1',\n",
              "  'C1',\n",
              "  'C1',\n",
              "  'C1',\n",
              "  'C1',\n",
              "  'C1',\n",
              "  'C1',\n",
              "  'C1',\n",
              "  'C1',\n",
              "  'C1',\n",
              "  'C1',\n",
              "  'C1',\n",
              "  'C1',\n",
              "  'C1',\n",
              "  'C1',\n",
              "  'C2',\n",
              "  'C2',\n",
              "  'C2',\n",
              "  'C2',\n",
              "  'C2',\n",
              "  'C2',\n",
              "  'C2',\n",
              "  'C2',\n",
              "  'C2',\n",
              "  'C2',\n",
              "  'C2',\n",
              "  'C2',\n",
              "  'C2',\n",
              "  'C3',\n",
              "  'C3',\n",
              "  'C3',\n",
              "  'C3',\n",
              "  'C3',\n",
              "  'C3',\n",
              "  'C3',\n",
              "  'C3',\n",
              "  'C3',\n",
              "  'C3',\n",
              "  'C0',\n",
              "  'C0'],\n",
              " 'leaves_color_list': ['C1',\n",
              "  'C1',\n",
              "  'C1',\n",
              "  'C1',\n",
              "  'C1',\n",
              "  'C1',\n",
              "  'C1',\n",
              "  'C1',\n",
              "  'C1',\n",
              "  'C1',\n",
              "  'C1',\n",
              "  'C1',\n",
              "  'C1',\n",
              "  'C1',\n",
              "  'C1',\n",
              "  'C1',\n",
              "  'C1',\n",
              "  'C2',\n",
              "  'C2',\n",
              "  'C2',\n",
              "  'C2',\n",
              "  'C2',\n",
              "  'C2',\n",
              "  'C2',\n",
              "  'C2',\n",
              "  'C2',\n",
              "  'C2',\n",
              "  'C2',\n",
              "  'C2',\n",
              "  'C2',\n",
              "  'C2',\n",
              "  'C3',\n",
              "  'C3',\n",
              "  'C3',\n",
              "  'C3',\n",
              "  'C3',\n",
              "  'C3',\n",
              "  'C3',\n",
              "  'C3',\n",
              "  'C3',\n",
              "  'C3',\n",
              "  'C3']}"
            ]
          },
          "metadata": {},
          "execution_count": 14
        },
        {
          "output_type": "display_data",
          "data": {
            "text/plain": [
              "<Figure size 864x432 with 1 Axes>"
            ],
            "image/png": "[encoded data removed]"
          },
          "metadata": {
            "needs_background": "light"
          }
        }
      ]
    },
    {
      "cell_type": "code",
      "source": [
        "from matplotlib import pyplot as pyplot"
      ],
      "metadata": {
        "id": "7OtsbHno-5gr"
      },
      "execution_count": null,
      "outputs": []
    },
    {
      "cell_type": "code",
      "source": [
        "from scipy.cluster.hierarchy import fcluster\n",
        "import numpy as np\n",
        "from scipy.cluster.hierarchy import cophenet\n",
        "from scipy.cluster.hierarchy import inconsistent\n",
        "from scipy.spatial.distance import pdist"
      ],
      "metadata": {
        "id": "sXqeic_sCtWs"
      },
      "execution_count": null,
      "outputs": []
    },
    {
      "cell_type": "code",
      "source": [
        "%matplotlib inline"
      ],
      "metadata": {
        "id": "NbcvESAwDKQK"
      },
      "execution_count": null,
      "outputs": []
    },
    {
      "cell_type": "code",
      "source": [
        "%matplotlib inline\n",
        "np.set_printoptions(precision = 5 , suppress = True) #suppress scientific notation"
      ],
      "metadata": {
        "id": "BA53FT2wDUzB"
      },
      "execution_count": null,
      "outputs": []
    },
    {
      "cell_type": "code",
      "source": [
        "a = np.random.multivariate_normal([10,0],[[3,1],[1,4]],size = [100,])\n",
        "print(a)"
      ],
      "metadata": {
        "colab": {
          "base_uri": "https://localhost:8080/"
        },
        "id": "5LYUJXy6D2JZ",
        "outputId": "d4d86a85-46c7-4f24-e498-0c5d877b70f5"
      },
      "execution_count": null,
      "outputs": [
        {
          "output_type": "stream",
          "name": "stdout",
          "text": [
            "[[10.45713  1.3576 ]\n",
            " [12.45218  0.28806]\n",
            " [10.20404  3.59731]\n",
            " [13.45462  1.85111]\n",
            " [ 8.48555 -1.21857]\n",
            " [ 7.96373 -4.15524]\n",
            " [ 9.40381  3.58766]\n",
            " [11.01537  3.27802]\n",
            " [ 8.62789 -1.80729]\n",
            " [ 9.9701  -1.15166]\n",
            " [ 6.79998 -4.80703]\n",
            " [12.46478 -1.475  ]\n",
            " [ 6.7846   0.56992]\n",
            " [ 6.72579  0.82247]\n",
            " [ 7.57802  1.21541]\n",
            " [11.30157  1.38871]\n",
            " [12.4837   2.03442]\n",
            " [11.06841 -1.04384]\n",
            " [ 9.32972  0.48555]\n",
            " [12.03528  6.10507]\n",
            " [11.80481  0.417  ]\n",
            " [11.38486  1.07905]\n",
            " [12.93428  0.07925]\n",
            " [11.22055  2.30509]\n",
            " [12.00282 -1.24937]\n",
            " [ 9.90768  1.82797]\n",
            " [10.82473 -0.6819 ]\n",
            " [10.30816 -3.6209 ]\n",
            " [10.65261  1.56839]\n",
            " [10.75501 -0.95629]\n",
            " [10.86681  0.95275]\n",
            " [11.59259  1.49463]\n",
            " [ 8.58533 -1.12304]\n",
            " [ 9.90285  1.1547 ]\n",
            " [ 4.87704  0.23429]\n",
            " [ 9.53493 -0.16921]\n",
            " [10.33961  0.97474]\n",
            " [ 8.37395 -0.09089]\n",
            " [ 8.93231 -1.38822]\n",
            " [10.16008  2.2677 ]\n",
            " [10.36013 -2.5481 ]\n",
            " [ 8.26696 -1.75693]\n",
            " [10.10651  1.45989]\n",
            " [ 8.19796 -2.82021]\n",
            " [ 8.98853  0.06907]\n",
            " [ 6.3225   3.49803]\n",
            " [10.42118 -2.12348]\n",
            " [ 9.01847 -0.97553]\n",
            " [ 8.72618 -2.41438]\n",
            " [ 6.98587 -3.39976]\n",
            " [ 9.0989  -1.08359]\n",
            " [ 8.89183  0.81441]\n",
            " [10.99494  1.15804]\n",
            " [10.68203 -1.72808]\n",
            " [12.12002  0.3931 ]\n",
            " [ 7.5992   0.68688]\n",
            " [ 8.09863  2.58265]\n",
            " [ 8.68415  3.72361]\n",
            " [ 8.91486  0.34629]\n",
            " [11.67213  1.30865]\n",
            " [ 9.40624 -0.50703]\n",
            " [ 9.62299  0.25025]\n",
            " [10.17709 -2.087  ]\n",
            " [12.0314  -2.17924]\n",
            " [ 9.33705 -2.29604]\n",
            " [ 8.90813  0.76582]\n",
            " [12.89516 -0.35992]\n",
            " [13.54283  1.42417]\n",
            " [ 8.95388  1.05697]\n",
            " [ 9.07404  1.03601]\n",
            " [ 6.46751 -1.94033]\n",
            " [ 8.59447 -2.21243]\n",
            " [10.0825   0.96908]\n",
            " [10.67512  1.07682]\n",
            " [ 8.07753  0.6993 ]\n",
            " [10.32189  1.72399]\n",
            " [12.5588   1.1256 ]\n",
            " [ 9.22901  1.59764]\n",
            " [11.22898 -3.24113]\n",
            " [ 9.06444  0.75979]\n",
            " [12.10579 -1.28985]\n",
            " [ 8.42801  0.63502]\n",
            " [ 7.99151 -1.36289]\n",
            " [10.71307 -1.23905]\n",
            " [ 9.2089   0.22894]\n",
            " [13.42375 -0.05617]\n",
            " [ 7.70712 -1.36182]\n",
            " [ 9.16932  2.83328]\n",
            " [11.90308  1.10638]\n",
            " [12.36569 -0.89815]\n",
            " [11.805   -2.36719]\n",
            " [ 8.97756  0.87034]\n",
            " [11.94112  1.02711]\n",
            " [10.39602 -1.39916]\n",
            " [ 9.08696  3.67528]\n",
            " [ 8.7515  -4.27588]\n",
            " [13.59879  3.62281]\n",
            " [11.0307  -0.7865 ]\n",
            " [15.40076  2.61617]\n",
            " [ 8.27581 -1.85427]]\n"
          ]
        }
      ]
    },
    {
      "cell_type": "code",
      "source": [
        "b = np.random.multivariate_normal([0,20],[[3,1],[1,4]],size = [50,])"
      ],
      "metadata": {
        "id": "2OabZp5rFnTr"
      },
      "execution_count": null,
      "outputs": []
    },
    {
      "cell_type": "code",
      "source": [
        "X = np.concatenate((a,b),)\n",
        "print(X.shape)"
      ],
      "metadata": {
        "id": "BVS46j9UIbYW",
        "colab": {
          "base_uri": "https://localhost:8080/"
        },
        "outputId": "78a67c73-95ff-45bd-96f4-638e21eeddc9"
      },
      "execution_count": null,
      "outputs": [
        {
          "output_type": "stream",
          "name": "stdout",
          "text": [
            "(150, 2)\n"
          ]
        }
      ]
    },
    {
      "cell_type": "code",
      "source": [
        "X"
      ],
      "metadata": {
        "colab": {
          "base_uri": "https://localhost:8080/"
        },
        "id": "Js98bMcFIi34",
        "outputId": "de086769-2c91-4f42-9fc9-ba0dfc818991"
      },
      "execution_count": null,
      "outputs": [
        {
          "output_type": "execute_result",
          "data": {
            "text/plain": [
              "array([[10.45713,  1.3576 ],\n",
              "       [12.45218,  0.28806],\n",
              "       [10.20404,  3.59731],\n",
              "       [13.45462,  1.85111],\n",
              "       [ 8.48555, -1.21857],\n",
              "       [ 7.96373, -4.15524],\n",
              "       [ 9.40381,  3.58766],\n",
              "       [11.01537,  3.27802],\n",
              "       [ 8.62789, -1.80729],\n",
              "       [ 9.9701 , -1.15166],\n",
              "       [ 6.79998, -4.80703],\n",
              "       [12.46478, -1.475  ],\n",
              "       [ 6.7846 ,  0.56992],\n",
              "       [ 6.72579,  0.82247],\n",
              "       [ 7.57802,  1.21541],\n",
              "       [11.30157,  1.38871],\n",
              "       [12.4837 ,  2.03442],\n",
              "       [11.06841, -1.04384],\n",
              "       [ 9.32972,  0.48555],\n",
              "       [12.03528,  6.10507],\n",
              "       [11.80481,  0.417  ],\n",
              "       [11.38486,  1.07905],\n",
              "       [12.93428,  0.07925],\n",
              "       [11.22055,  2.30509],\n",
              "       [12.00282, -1.24937],\n",
              "       [ 9.90768,  1.82797],\n",
              "       [10.82473, -0.6819 ],\n",
              "       [10.30816, -3.6209 ],\n",
              "       [10.65261,  1.56839],\n",
              "       [10.75501, -0.95629],\n",
              "       [10.86681,  0.95275],\n",
              "       [11.59259,  1.49463],\n",
              "       [ 8.58533, -1.12304],\n",
              "       [ 9.90285,  1.1547 ],\n",
              "       [ 4.87704,  0.23429],\n",
              "       [ 9.53493, -0.16921],\n",
              "       [10.33961,  0.97474],\n",
              "       [ 8.37395, -0.09089],\n",
              "       [ 8.93231, -1.38822],\n",
              "       [10.16008,  2.2677 ],\n",
              "       [10.36013, -2.5481 ],\n",
              "       [ 8.26696, -1.75693],\n",
              "       [10.10651,  1.45989],\n",
              "       [ 8.19796, -2.82021],\n",
              "       [ 8.98853,  0.06907],\n",
              "       [ 6.3225 ,  3.49803],\n",
              "       [10.42118, -2.12348],\n",
              "       [ 9.01847, -0.97553],\n",
              "       [ 8.72618, -2.41438],\n",
              "       [ 6.98587, -3.39976],\n",
              "       [ 9.0989 , -1.08359],\n",
              "       [ 8.89183,  0.81441],\n",
              "       [10.99494,  1.15804],\n",
              "       [10.68203, -1.72808],\n",
              "       [12.12002,  0.3931 ],\n",
              "       [ 7.5992 ,  0.68688],\n",
              "       [ 8.09863,  2.58265],\n",
              "       [ 8.68415,  3.72361],\n",
              "       [ 8.91486,  0.34629],\n",
              "       [11.67213,  1.30865],\n",
              "       [ 9.40624, -0.50703],\n",
              "       [ 9.62299,  0.25025],\n",
              "       [10.17709, -2.087  ],\n",
              "       [12.0314 , -2.17924],\n",
              "       [ 9.33705, -2.29604],\n",
              "       [ 8.90813,  0.76582],\n",
              "       [12.89516, -0.35992],\n",
              "       [13.54283,  1.42417],\n",
              "       [ 8.95388,  1.05697],\n",
              "       [ 9.07404,  1.03601],\n",
              "       [ 6.46751, -1.94033],\n",
              "       [ 8.59447, -2.21243],\n",
              "       [10.0825 ,  0.96908],\n",
              "       [10.67512,  1.07682],\n",
              "       [ 8.07753,  0.6993 ],\n",
              "       [10.32189,  1.72399],\n",
              "       [12.5588 ,  1.1256 ],\n",
              "       [ 9.22901,  1.59764],\n",
              "       [11.22898, -3.24113],\n",
              "       [ 9.06444,  0.75979],\n",
              "       [12.10579, -1.28985],\n",
              "       [ 8.42801,  0.63502],\n",
              "       [ 7.99151, -1.36289],\n",
              "       [10.71307, -1.23905],\n",
              "       [ 9.2089 ,  0.22894],\n",
              "       [13.42375, -0.05617],\n",
              "       [ 7.70712, -1.36182],\n",
              "       [ 9.16932,  2.83328],\n",
              "       [11.90308,  1.10638],\n",
              "       [12.36569, -0.89815],\n",
              "       [11.805  , -2.36719],\n",
              "       [ 8.97756,  0.87034],\n",
              "       [11.94112,  1.02711],\n",
              "       [10.39602, -1.39916],\n",
              "       [ 9.08696,  3.67528],\n",
              "       [ 8.7515 , -4.27588],\n",
              "       [13.59879,  3.62281],\n",
              "       [11.0307 , -0.7865 ],\n",
              "       [15.40076,  2.61617],\n",
              "       [ 8.27581, -1.85427],\n",
              "       [ 2.35713, 20.30602],\n",
              "       [ 0.18283, 21.51104],\n",
              "       [ 0.69023, 18.63633],\n",
              "       [ 1.6122 , 16.20032],\n",
              "       [-1.42697, 19.27624],\n",
              "       [-0.2443 , 19.65961],\n",
              "       [-0.04553, 18.99594],\n",
              "       [ 0.68365, 21.59128],\n",
              "       [ 0.15627, 20.60202],\n",
              "       [ 3.71023, 19.97594],\n",
              "       [-1.70903, 21.28107],\n",
              "       [ 3.24785, 20.93901],\n",
              "       [ 1.77379, 21.51528],\n",
              "       [-0.89355, 21.95478],\n",
              "       [-2.43612, 19.26469],\n",
              "       [ 0.77322, 21.23534],\n",
              "       [-0.3575 , 23.49297],\n",
              "       [ 1.04973, 18.83255],\n",
              "       [-2.42855, 18.3303 ],\n",
              "       [-2.88876, 18.95656],\n",
              "       [ 3.21812, 21.7159 ],\n",
              "       [-1.89413, 19.96027],\n",
              "       [-2.87638, 21.85337],\n",
              "       [-0.50642, 21.46171],\n",
              "       [ 1.35509, 17.61121],\n",
              "       [ 0.41322, 18.03892],\n",
              "       [-0.45165, 23.17715],\n",
              "       [-0.70365, 19.56692],\n",
              "       [ 3.23295, 18.04241],\n",
              "       [ 1.39448, 20.64716],\n",
              "       [-2.57674, 17.74533],\n",
              "       [ 1.97468, 20.37914],\n",
              "       [ 0.69656, 23.39087],\n",
              "       [ 0.08948, 18.05271],\n",
              "       [ 1.84304, 16.80904],\n",
              "       [ 1.83779, 19.52081],\n",
              "       [-4.41576, 17.56775],\n",
              "       [-2.05193, 16.95852],\n",
              "       [-0.14291, 19.57082],\n",
              "       [ 1.49268, 19.31837],\n",
              "       [ 0.59321, 20.76483],\n",
              "       [ 0.21322, 18.82708],\n",
              "       [ 0.39385, 21.80272],\n",
              "       [-1.12669, 21.10419],\n",
              "       [ 0.55732, 19.19147],\n",
              "       [-0.4671 , 16.63107],\n",
              "       [ 0.85817, 21.77722],\n",
              "       [-0.9638 , 18.65148],\n",
              "       [-0.18441, 20.98251],\n",
              "       [ 3.32154, 20.64739]])"
            ]
          },
          "metadata": {},
          "execution_count": 22
        }
      ]
    },
    {
      "cell_type": "code",
      "source": [
        "plt.scatter(X[:,0],X[:,1])\n",
        "plt.show()"
      ],
      "metadata": {
        "colab": {
          "base_uri": "https://localhost:8080/",
          "height": 265
        },
        "id": "iR9ZIeXGIlaP",
        "outputId": "01e60b4c-b23d-4182-81c5-03e55efdd78f"
      },
      "execution_count": null,
      "outputs": [
        {
          "output_type": "display_data",
          "data": {
            "text/plain": [
              "<Figure size 432x288 with 1 Axes>"
            ],
            "image/png": "[encoded data removed]"
          },
          "metadata": {
            "needs_background": "light"
          }
        }
      ]
    },
    {
      "cell_type": "code",
      "source": [
        "z = linkage(X, 'ward')"
      ],
      "metadata": {
        "id": "f6aPo21cI0g-"
      },
      "execution_count": null,
      "outputs": []
    },
    {
      "cell_type": "code",
      "source": [
        "c, coph_dists = cophenet(z, pdist(X))"
      ],
      "metadata": {
        "id": "DImiAJYGNmyD"
      },
      "execution_count": null,
      "outputs": []
    },
    {
      "cell_type": "code",
      "source": [
        "plt.figure(figsize=(12,8))\n",
        "plt.title('Hierarchical Clustering Dendofram (truncated)')\n",
        "plt.xlabel('sample index')\n",
        "plt.ylabel('distance')\n",
        "dendrogram(\n",
        "    z, truncate_mode = 'lastp',\n",
        "    p=12,\n",
        "    show_leaf_counts = False, \n",
        "    leaf_rotation = 80.,\n",
        "    leaf_font_size = 12.,\n",
        "    show_contracted = True,)\n",
        "plt.show()\n"
      ],
      "metadata": {
        "colab": {
          "base_uri": "https://localhost:8080/",
          "height": 503
        },
        "id": "sgcSC8g4P4I-",
        "outputId": "c409f6db-cbc2-4d15-b32c-9b9a646730b7"
      },
      "execution_count": null,
      "outputs": [
        {
          "output_type": "display_data",
          "data": {
            "text/plain": [
              "<Figure size 864x576 with 1 Axes>"
            ],
            "image/png": "[encoded data removed]"
          },
          "metadata": {
            "needs_background": "light"
          }
        }
      ]
    },
    {
      "cell_type": "code",
      "source": [
        "def fancy_dendogram(*args, **kwargs):\n",
        "  max_d = kwargs.pop('max_d',None)\n",
        "  if max_d and 'color_threshold' not in kwargs:\n",
        "    kwargs['color_threshold'] = max_d\n",
        "  annotate_above = kwargs.pop('annotate_above',0)  \n",
        "\n",
        "  ddata = dendrogram (*args, **kwargs)\n",
        "  if not kwargs.get('no_plot',False):\n",
        "    plt.title('Hierarchical Clustering Dendogram (truncated)')\n",
        "    plt.ylabel('sample index or (cluster size)')\n",
        "    plt.ylabel('distance')\n",
        "    for i,d,c in zip (ddata['icoord'],ddata['dcoord'],ddata['color_list']):\n",
        "       x = 0.5 * sum(i[1:3])\n",
        "       y = d[1]\n",
        "       print(x,y)\n",
        "       if y> annotate_above:\n",
        "         plt.plot(x,y,'^',c=c)\n",
        "         plt.annotate(\"%.3g\"%y,(x,y),xytext = (0,15),\n",
        "                      textcoords ='offset points',\n",
        "                      va = 'top', ha = 'center')\n",
        "    if max_d:\n",
        "       plt.axhline(y = max_d, c= 'k')\n",
        "\n",
        "  return ddata        \n",
        "\n"
      ],
      "metadata": {
        "id": "VOd7-ibvUKCN"
      },
      "execution_count": null,
      "outputs": []
    },
    {
      "cell_type": "code",
      "source": [
        "plt.figure(figsize=(12,8))\n",
        "fancy_dendogram(z, truncate_mode = 'lastp',\n",
        "                p = 12,\n",
        "                leaf_rotation=90,\n",
        "                leaf_font_size=12,\n",
        "                show_contracted=True,\n",
        "                annotate_above=10, #useful in small plots so that annotations don't overlap\n",
        "                )\n",
        "plt.show()"
      ],
      "metadata": {
        "colab": {
          "base_uri": "https://localhost:8080/",
          "height": 704
        },
        "id": "jLFi4Eg4ILH1",
        "outputId": "c571f094-e1d5-42d4-c370-8e00da7639a9"
      },
      "execution_count": null,
      "outputs": [
        {
          "output_type": "stream",
          "name": "stdout",
          "text": [
            "10.0 9.743578082158589\n",
            "30.0 12.471221313384827\n",
            "20.0 14.161129076029454\n",
            "60.0 6.584274835877018\n",
            "52.5 12.00685499026876\n",
            "110.0 6.065196715445261\n",
            "102.5 9.903115380295453\n",
            "93.75 10.555192750285606\n",
            "84.375 17.451825785922928\n",
            "68.4375 22.503319920095457\n",
            "44.21875 180.33054385309848\n"
          ]
        },
        {
          "output_type": "display_data",
          "data": {
            "text/plain": [
              "<Figure size 864x576 with 1 Axes>"
            ],
            "image/png": "[encoded data removed]"
          },
          "metadata": {
            "needs_background": "light"
          }
        }
      ]
    },
    {
      "cell_type": "code",
      "source": [
        "max_d = 50"
      ],
      "metadata": {
        "id": "qOiLB-npKQLF"
      },
      "execution_count": null,
      "outputs": []
    },
    {
      "cell_type": "code",
      "source": [
        "plt.figure(figsize=(12,8))\n",
        "\n",
        "fancy_dendogram(z, truncate_mode='lastp',\n",
        "                p = 12,\n",
        "                leaf_rotation=90.,\n",
        "                leaf_font_size=12.,\n",
        "                show_contracted=True,\n",
        "                annotate_above=10,\n",
        "                max_d = max_d,\n",
        "                )\n",
        "plt.show()"
      ],
      "metadata": {
        "colab": {
          "base_uri": "https://localhost:8080/",
          "height": 704
        },
        "id": "YqRwwx4aMz7e",
        "outputId": "43c44b9b-f5ba-4fbb-c378-12329e2c0e47"
      },
      "execution_count": null,
      "outputs": [
        {
          "output_type": "stream",
          "name": "stdout",
          "text": [
            "10.0 9.743578082158589\n",
            "30.0 12.471221313384827\n",
            "20.0 14.161129076029454\n",
            "60.0 6.584274835877018\n",
            "52.5 12.00685499026876\n",
            "110.0 6.065196715445261\n",
            "102.5 9.903115380295453\n",
            "93.75 10.555192750285606\n",
            "84.375 17.451825785922928\n",
            "68.4375 22.503319920095457\n",
            "44.21875 180.33054385309848\n"
          ]
        },
        {
          "output_type": "display_data",
          "data": {
            "text/plain": [
              "<Figure size 864x576 with 1 Axes>"
            ],
            "image/png": "[encoded data removed]"
          },
          "metadata": {
            "needs_background": "light"
          }
        }
      ]
    },
    {
      "cell_type": "code",
      "source": [
        "max_d = 20\n",
        "\n",
        "clusters = fcluster(z, max_d, criterion = 'distance')\n",
        "clusters"
      ],
      "metadata": {
        "colab": {
          "base_uri": "https://localhost:8080/"
        },
        "id": "ANsrHa4cNpsN",
        "outputId": "351d26b4-51b9-4cec-e829-9dd3e97b647f"
      },
      "execution_count": null,
      "outputs": [
        {
          "output_type": "execute_result",
          "data": {
            "text/plain": [
              "array([3, 3, 3, 3, 2, 2, 3, 3, 2, 2, 2, 2, 3, 3, 3, 3, 3, 2, 3, 3, 3, 3,\n",
              "       3, 3, 2, 3, 2, 2, 3, 2, 3, 3, 2, 3, 3, 3, 3, 3, 2, 3, 2, 2, 3, 2,\n",
              "       3, 3, 2, 2, 2, 2, 2, 3, 3, 2, 3, 3, 3, 3, 3, 3, 3, 3, 2, 2, 2, 3,\n",
              "       3, 3, 3, 3, 3, 2, 3, 3, 3, 3, 3, 3, 2, 3, 2, 3, 2, 2, 3, 3, 2, 3,\n",
              "       3, 2, 2, 3, 3, 2, 3, 2, 3, 2, 3, 2, 1, 1, 1, 1, 1, 1, 1, 1, 1, 1,\n",
              "       1, 1, 1, 1, 1, 1, 1, 1, 1, 1, 1, 1, 1, 1, 1, 1, 1, 1, 1, 1, 1, 1,\n",
              "       1, 1, 1, 1, 1, 1, 1, 1, 1, 1, 1, 1, 1, 1, 1, 1, 1, 1], dtype=int32)"
            ]
          },
          "metadata": {},
          "execution_count": 37
        }
      ]
    },
    {
      "cell_type": "code",
      "source": [],
      "metadata": {
        "id": "1mWDlpgqO0za"
      },
      "execution_count": null,
      "outputs": []
    }
  ]
}